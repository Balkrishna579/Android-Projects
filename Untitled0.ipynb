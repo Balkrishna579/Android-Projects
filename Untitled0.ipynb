{
  "nbformat": 4,
  "nbformat_minor": 0,
  "metadata": {
    "colab": {
      "provenance": [],
      "authorship_tag": "ABX9TyNp2mWYOdQbYHbQqAKbwxpI",
      "include_colab_link": true
    },
    "kernelspec": {
      "name": "python3",
      "display_name": "Python 3"
    },
    "language_info": {
      "name": "python"
    }
  },
  "cells": [
    {
      "cell_type": "markdown",
      "metadata": {
        "id": "view-in-github",
        "colab_type": "text"
      },
      "source": [
        "<a href=\"https://colab.research.google.com/github/Balkrishna579/Android-Projects/blob/master/Untitled0.ipynb\" target=\"_parent\"><img src=\"https://colab.research.google.com/assets/colab-badge.svg\" alt=\"Open In Colab\"/></a>"
      ]
    },
    {
      "cell_type": "code",
      "execution_count": 34,
      "metadata": {
        "colab": {
          "base_uri": "https://localhost:8080/"
        },
        "id": "Tp2nnZ3WvpDk",
        "outputId": "4547d382-1647-4283-fa5f-1aca4a6025d7"
      },
      "outputs": [
        {
          "output_type": "stream",
          "name": "stdout",
          "text": [
            "Done\n"
          ]
        }
      ],
      "source": [
        "from zipfile import ZipFile\n",
        "file_name = \"RP_test_data.zip\"\n",
        "\n",
        "with ZipFile(file_name, 'r') as zip:\n",
        "  zip.extractall()\n",
        "  print('Done')"
      ]
    },
    {
      "cell_type": "code",
      "source": [
        "from keras.preprocessing.image import ImageDataGenerator\n",
        "trdata = ImageDataGenerator()\n",
        "traindata = trdata.flow_from_directory(directory=\"RP_pic\")\n",
        "tsdata = ImageDataGenerator()\n",
        "testdata = tsdata.flow_from_directory(directory=\"RP_test\")"
      ],
      "metadata": {
        "colab": {
          "base_uri": "https://localhost:8080/"
        },
        "id": "203WIxXaycnG",
        "outputId": "eefcc9e1-c7fe-4496-cc8d-03c423e82afa"
      },
      "execution_count": 35,
      "outputs": [
        {
          "output_type": "stream",
          "name": "stdout",
          "text": [
            "Found 0 images belonging to 0 classes.\n",
            "Found 0 images belonging to 0 classes.\n"
          ]
        }
      ]
    },
    {
      "cell_type": "code",
      "source": [
        "IMG_WIDTH=224\n",
        "IMG_HEIGHT=224\n",
        "img_folder=r'rp_images'"
      ],
      "metadata": {
        "id": "-fvHVh3TBicT"
      },
      "execution_count": 36,
      "outputs": []
    },
    {
      "cell_type": "code",
      "source": [
        "import cv2\n",
        "import glob\n",
        "import numpy as np\n",
        "def create_dataset(img_folder):\n",
        "   \n",
        "    img_data_array=[]\n",
        "    \n",
        "   \n",
        "    for filename in glob.glob('RP_pic/*.png'):\n",
        "      \n",
        "      \n",
        "      image= cv2.imread(filename, cv2.COLOR_BGR2RGB)\n",
        "      image=cv2.resize(image, (IMG_HEIGHT, IMG_WIDTH),interpolation = cv2.INTER_AREA)\n",
        "      image=np.array(image)\n",
        "      image = image.astype('float32')\n",
        "      image /= 255 \n",
        "      img_data_array.append(image)\n",
        "           \n",
        "    return img_data_array\n",
        "# extract the image array and class name\n",
        "img_data =create_dataset(r'rp_images')"
      ],
      "metadata": {
        "id": "fuGr_Ex8Bm5V"
      },
      "execution_count": 37,
      "outputs": []
    },
    {
      "cell_type": "code",
      "source": [
        "import cv2\n",
        "import glob\n",
        "def create_dataset(img_folder):\n",
        "   \n",
        "    img_data_array=[]\n",
        "    \n",
        "   \n",
        "    for filename in glob.glob('RP_test/*.png'):\n",
        "     \n",
        "      \n",
        "      image= cv2.imread(filename, cv2.COLOR_BGR2RGB)\n",
        "      image=cv2.resize(image, (IMG_HEIGHT, IMG_WIDTH),interpolation = cv2.INTER_AREA)\n",
        "      image=np.array(image)\n",
        "      image = image.astype('float32')\n",
        "      image /= 255 \n",
        "      img_data_array.append(image)\n",
        "           \n",
        "    return img_data_array\n",
        "# extract the image array and class name\n",
        "img_data2 =create_dataset(r'rp_images_2')"
      ],
      "metadata": {
        "id": "-bJZcqmnDXi1"
      },
      "execution_count": 38,
      "outputs": []
    },
    {
      "cell_type": "code",
      "source": [
        "from PIL import Image\n",
        "import glob\n",
        "image_list = []\n",
        "for filename in glob.glob('RP_pic/*.png'): #assuming gif\n",
        "    im=Image.open(filename)\n",
        "    image_list.append(im)"
      ],
      "metadata": {
        "id": "JBLFHEoHy9hS"
      },
      "execution_count": 39,
      "outputs": []
    },
    {
      "cell_type": "code",
      "source": [
        "image_list[59]"
      ],
      "metadata": {
        "colab": {
          "base_uri": "https://localhost:8080/",
          "height": 683
        },
        "id": "nqWWq-iY0FZN",
        "outputId": "f5ec38b7-d70b-42f3-bad2-6e6d33cd977f"
      },
      "execution_count": 40,
      "outputs": [
        {
          "output_type": "execute_result",
          "data": {
            "text/plain": [
              "<PIL.PngImagePlugin.PngImageFile image mode=RGBA size=1132x677 at 0x7F46A1317FA0>"
            ],
            "image/png": "[encoded data removed]"
          },
          "metadata": {},
          "execution_count": 40
        }
      ]
    },
    {
      "cell_type": "code",
      "source": [
        "from PIL import Image\n",
        "import numpy as np\n",
        "import tensorflow as tf\n",
        "import glob\n",
        "data_list = []\n",
        "for filename in glob.glob('RP_data/*.dat'): #assuming gif\n",
        "    data = tf.convert_to_tensor(np.loadtxt(filename, unpack = True),dtype=tf.float32)\n",
        "    data_list.append(data[1][6:15])"
      ],
      "metadata": {
        "id": "rsMYR3dw0jzI"
      },
      "execution_count": 41,
      "outputs": []
    },
    {
      "cell_type": "code",
      "source": [
        "data_list=np.asarray(data_list)"
      ],
      "metadata": {
        "id": "o0H5We3w1rd3"
      },
      "execution_count": 42,
      "outputs": []
    },
    {
      "cell_type": "code",
      "source": [
        "import keras,os\n",
        "from keras.models import Sequential\n",
        "from keras.layers import Dense, Conv2D, MaxPool2D , Flatten\n",
        "from keras.preprocessing.image import ImageDataGenerator\n",
        "import numpy as np"
      ],
      "metadata": {
        "id": "W7kpp4vq5wrt"
      },
      "execution_count": 43,
      "outputs": []
    },
    {
      "cell_type": "code",
      "source": [
        "model = Sequential()\n",
        "model.add(Conv2D(input_shape=(224,224,3),filters=64,kernel_size=(3,3),padding=\"same\", activation=\"relu\"))\n",
        "model.add(Conv2D(filters=64,kernel_size=(3,3),padding=\"same\", activation=\"relu\"))\n",
        "model.add(MaxPool2D(pool_size=(2,2),strides=(2,2)))\n",
        "model.add(Conv2D(filters=128, kernel_size=(3,3), padding=\"same\", activation=\"relu\"))\n",
        "model.add(Conv2D(filters=128, kernel_size=(3,3), padding=\"same\", activation=\"relu\"))\n",
        "model.add(MaxPool2D(pool_size=(2,2),strides=(2,2)))\n",
        "model.add(Conv2D(filters=256, kernel_size=(3,3), padding=\"same\", activation=\"relu\"))\n",
        "model.add(Conv2D(filters=256, kernel_size=(3,3), padding=\"same\", activation=\"relu\"))\n",
        "model.add(Conv2D(filters=256, kernel_size=(3,3), padding=\"same\", activation=\"relu\"))\n",
        "model.add(MaxPool2D(pool_size=(2,2),strides=(2,2)))\n",
        "model.add(Conv2D(filters=512, kernel_size=(3,3), padding=\"same\", activation=\"relu\"))\n",
        "model.add(Conv2D(filters=512, kernel_size=(3,3), padding=\"same\", activation=\"relu\"))\n",
        "model.add(Conv2D(filters=512, kernel_size=(3,3), padding=\"same\", activation=\"relu\"))\n",
        "model.add(MaxPool2D(pool_size=(2,2),strides=(2,2)))\n",
        "model.add(Conv2D(filters=512, kernel_size=(3,3), padding=\"same\", activation=\"relu\"))\n",
        "model.add(Conv2D(filters=512, kernel_size=(3,3), padding=\"same\", activation=\"relu\"))\n",
        "model.add(Conv2D(filters=512, kernel_size=(3,3), padding=\"same\", activation=\"relu\"))\n",
        "model.add(MaxPool2D(pool_size=(2,2),strides=(2,2)))"
      ],
      "metadata": {
        "id": "voPLZRfA5yzk"
      },
      "execution_count": 44,
      "outputs": []
    },
    {
      "cell_type": "code",
      "source": [
        "model.add(Flatten())\n",
        "model.add(Dense(units=4096,activation=\"relu\"))\n",
        "model.add(Dense(units=4096,activation=\"relu\"))\n",
        "model.add(Dense(units=9, activation=\"softmax\"))\n",
        "model.summary()"
      ],
      "metadata": {
        "colab": {
          "base_uri": "https://localhost:8080/"
        },
        "id": "7W-b74tr532J",
        "outputId": "df59d910-d092-4389-fd19-2000a72d63a2"
      },
      "execution_count": 58,
      "outputs": [
        {
          "output_type": "stream",
          "name": "stdout",
          "text": [
            "Model: \"sequential_2\"\n",
            "_________________________________________________________________\n",
            " Layer (type)                Output Shape              Param #   \n",
            "=================================================================\n",
            " conv2d_26 (Conv2D)          (None, 224, 224, 64)      1792      \n",
            "                                                                 \n",
            " conv2d_27 (Conv2D)          (None, 224, 224, 64)      36928     \n",
            "                                                                 \n",
            " max_pooling2d_10 (MaxPoolin  (None, 112, 112, 64)     0         \n",
            " g2D)                                                            \n",
            "                                                                 \n",
            " conv2d_28 (Conv2D)          (None, 112, 112, 128)     73856     \n",
            "                                                                 \n",
            " conv2d_29 (Conv2D)          (None, 112, 112, 128)     147584    \n",
            "                                                                 \n",
            " max_pooling2d_11 (MaxPoolin  (None, 56, 56, 128)      0         \n",
            " g2D)                                                            \n",
            "                                                                 \n",
            " conv2d_30 (Conv2D)          (None, 56, 56, 256)       295168    \n",
            "                                                                 \n",
            " conv2d_31 (Conv2D)          (None, 56, 56, 256)       590080    \n",
            "                                                                 \n",
            " conv2d_32 (Conv2D)          (None, 56, 56, 256)       590080    \n",
            "                                                                 \n",
            " max_pooling2d_12 (MaxPoolin  (None, 28, 28, 256)      0         \n",
            " g2D)                                                            \n",
            "                                                                 \n",
            " conv2d_33 (Conv2D)          (None, 28, 28, 512)       1180160   \n",
            "                                                                 \n",
            " conv2d_34 (Conv2D)          (None, 28, 28, 512)       2359808   \n",
            "                                                                 \n",
            " conv2d_35 (Conv2D)          (None, 28, 28, 512)       2359808   \n",
            "                                                                 \n",
            " max_pooling2d_13 (MaxPoolin  (None, 14, 14, 512)      0         \n",
            " g2D)                                                            \n",
            "                                                                 \n",
            " conv2d_36 (Conv2D)          (None, 14, 14, 512)       2359808   \n",
            "                                                                 \n",
            " conv2d_37 (Conv2D)          (None, 14, 14, 512)       2359808   \n",
            "                                                                 \n",
            " conv2d_38 (Conv2D)          (None, 14, 14, 512)       2359808   \n",
            "                                                                 \n",
            " max_pooling2d_14 (MaxPoolin  (None, 7, 7, 512)        0         \n",
            " g2D)                                                            \n",
            "                                                                 \n",
            " flatten_2 (Flatten)         (None, 25088)             0         \n",
            "                                                                 \n",
            " dense_6 (Dense)             (None, 4096)              102764544 \n",
            "                                                                 \n",
            " dense_7 (Dense)             (None, 4096)              16781312  \n",
            "                                                                 \n",
            " dense_8 (Dense)             (None, 9)                 36873     \n",
            "                                                                 \n",
            " flatten_3 (Flatten)         (None, 9)                 0         \n",
            "                                                                 \n",
            " dense_9 (Dense)             (None, 4096)              40960     \n",
            "                                                                 \n",
            " dense_10 (Dense)            (None, 4096)              16781312  \n",
            "                                                                 \n",
            " dense_11 (Dense)            (None, 9)                 36873     \n",
            "                                                                 \n",
            "=================================================================\n",
            "Total params: 151,156,562\n",
            "Trainable params: 151,156,562\n",
            "Non-trainable params: 0\n",
            "_________________________________________________________________\n"
          ]
        }
      ]
    },
    {
      "cell_type": "code",
      "source": [
        "import tensorflow as tf\n",
        "import numpy as np\n",
        "\n",
        "class Custom_CE_Loss(tf.keras.losses.Loss):\n",
        "    def __init__(self):\n",
        "        super().__init__()\n",
        "    def call(self, y_true, y_pred):  \n",
        "      log_y_pred = tf.math.log(y_pred)\n",
        "      elements = -tf.math.multiply_no_nan(x=log_y_pred, y=y_true)\n",
        "      return tf.reduce_mean(tf.reduce_sum(elements,axis=1))"
      ],
      "metadata": {
        "id": "e8W2In4B9H0f"
      },
      "execution_count": 46,
      "outputs": []
    },
    {
      "cell_type": "code",
      "source": [
        "from PIL import Image\n",
        "import glob\n",
        "test_image_list = []\n",
        "for filename in glob.glob('RP_test/*.png'): #assuming gif\n",
        "    im=Image.open(filename)\n",
        "    test_image_list.append(im)"
      ],
      "metadata": {
        "id": "dCHlizLQ_QBG"
      },
      "execution_count": 47,
      "outputs": []
    },
    {
      "cell_type": "code",
      "source": [
        "from PIL import Image\n",
        "import numpy as np\n",
        "\n",
        "import glob\n",
        "test_data_list = []\n",
        "for filename in glob.glob('RP_test_data/*.dat'): #assuming gif\n",
        "    data = tf.convert_to_tensor(np.loadtxt(filename, unpack = True),dtype=tf.float32)\n",
        "    test_data_list.append(data[1][6:15])"
      ],
      "metadata": {
        "id": "W6KINj_-_cZX"
      },
      "execution_count": 48,
      "outputs": []
    },
    {
      "cell_type": "code",
      "source": [
        "test_data_list=np.asarray(test_data_list)"
      ],
      "metadata": {
        "id": "ddbMbyx5JsmV"
      },
      "execution_count": 49,
      "outputs": []
    },
    {
      "cell_type": "code",
      "source": [
        "img_data[59].shape\n",
        "data_list.reshape(1,-1)\n",
        "test_data_list.reshape(1,-1)\n",
        "test_data_list.reshape(1,-1)\n",
        "img_data=np.asarray(img_data)\n",
        "img_data2=np.asarray(img_data2)\n",
        "\n",
        "\n"
      ],
      "metadata": {
        "id": "zVBQgk6LLPEq"
      },
      "execution_count": 50,
      "outputs": []
    },
    {
      "cell_type": "code",
      "source": [
        "data_list[0][8]\n",
        "\n",
        "img_data2.shape\n",
        "img_data.dtype"
      ],
      "metadata": {
        "colab": {
          "base_uri": "https://localhost:8080/"
        },
        "id": "7QJcyNCQL87P",
        "outputId": "2496c6e3-d956-4e50-934a-ac157d9dcd0f"
      },
      "execution_count": 51,
      "outputs": [
        {
          "output_type": "execute_result",
          "data": {
            "text/plain": [
              "dtype('float32')"
            ]
          },
          "metadata": {},
          "execution_count": 51
        }
      ]
    },
    {
      "cell_type": "code",
      "source": [
        "from keras.optimizers import Adam\n",
        "\n",
        "model.compile(optimizer='adam',\n",
        "              loss=Custom_CE_Loss(),\n",
        "              metrics=['accuracy'])\n",
        "history = model.fit(img_data, data_list, epochs=10, \n",
        "                    validation_data=(img_data2, test_data_list))\n",
        "test_loss, test_acc = model.evaluate(img_data2,  test_data_list, verbose=2)"
      ],
      "metadata": {
        "colab": {
          "base_uri": "https://localhost:8080/"
        },
        "id": "H3S_lpLv_DxM",
        "outputId": "682637bb-f6d3-4c39-c97c-79efbad6075c"
      },
      "execution_count": 62,
      "outputs": [
        {
          "output_type": "stream",
          "name": "stdout",
          "text": [
            "Epoch 1/10\n",
            "2/2 [==============================] - 118s 55s/step - loss: 1.9404 - accuracy: 0.4667 - val_loss: 1.2315 - val_accuracy: 1.0000\n",
            "Epoch 2/10\n",
            "2/2 [==============================] - 112s 54s/step - loss: 1.1424 - accuracy: 0.9500 - val_loss: 1.1582 - val_accuracy: 1.0000\n",
            "Epoch 3/10\n",
            "2/2 [==============================] - 113s 56s/step - loss: 1.1229 - accuracy: 0.9500 - val_loss: 1.0179 - val_accuracy: 1.0000\n",
            "Epoch 4/10\n",
            "2/2 [==============================] - 110s 54s/step - loss: 1.0022 - accuracy: 0.9500 - val_loss: 0.9685 - val_accuracy: 1.0000\n",
            "Epoch 5/10\n",
            "2/2 [==============================] - 111s 54s/step - loss: 0.9924 - accuracy: 0.9500 - val_loss: 0.9820 - val_accuracy: 1.0000\n",
            "Epoch 6/10\n",
            "2/2 [==============================] - 116s 59s/step - loss: 0.9822 - accuracy: 0.9500 - val_loss: 0.9335 - val_accuracy: 1.0000\n",
            "Epoch 7/10\n",
            "2/2 [==============================] - 111s 55s/step - loss: 0.9445 - accuracy: 0.9500 - val_loss: 0.9499 - val_accuracy: 1.0000\n",
            "Epoch 8/10\n",
            "2/2 [==============================] - 112s 54s/step - loss: 0.9663 - accuracy: 0.9500 - val_loss: 0.9654 - val_accuracy: 1.0000\n",
            "Epoch 9/10\n",
            "2/2 [==============================] - 111s 55s/step - loss: 0.9682 - accuracy: 0.9500 - val_loss: 0.9402 - val_accuracy: 1.0000\n",
            "Epoch 10/10\n",
            "2/2 [==============================] - 110s 54s/step - loss: 0.9448 - accuracy: 0.9500 - val_loss: 0.9255 - val_accuracy: 1.0000\n",
            "1/1 - 5s - loss: 0.9255 - accuracy: 1.0000 - 5s/epoch - 5s/step\n"
          ]
        }
      ]
    },
    {
      "cell_type": "code",
      "source": [
        "output=model.predict(img_data2)"
      ],
      "metadata": {
        "colab": {
          "base_uri": "https://localhost:8080/"
        },
        "id": "nMtopacifW68",
        "outputId": "f657c72b-c919-419c-b595-55f03780aa9c"
      },
      "execution_count": 63,
      "outputs": [
        {
          "output_type": "stream",
          "name": "stdout",
          "text": [
            "1/1 [==============================] - 5s 5s/step\n"
          ]
        }
      ]
    },
    {
      "cell_type": "code",
      "source": [
        "output.shape"
      ],
      "metadata": {
        "colab": {
          "base_uri": "https://localhost:8080/"
        },
        "id": "dcQFZ46Ek3Wp",
        "outputId": "13794256-fa48-4067-ba16-41f2a1248b79"
      },
      "execution_count": 54,
      "outputs": [
        {
          "output_type": "execute_result",
          "data": {
            "text/plain": [
              "(10, 9)"
            ]
          },
          "metadata": {},
          "execution_count": 54
        }
      ]
    },
    {
      "cell_type": "code",
      "source": [
        "output[1]"
      ],
      "metadata": {
        "colab": {
          "base_uri": "https://localhost:8080/"
        },
        "id": "F_HWEUgSk67k",
        "outputId": "f133ab41-f834-4faa-ebaa-6e768ef471ee"
      },
      "execution_count": 84,
      "outputs": [
        {
          "output_type": "execute_result",
          "data": {
            "text/plain": [
              "array([3.0388875e-04, 2.2328733e-03, 6.7818001e-02, 1.4227469e-01,\n",
              "       6.7308372e-01, 1.1320431e-01, 4.1355813e-04, 3.3107912e-04,\n",
              "       3.3791896e-04], dtype=float32)"
            ]
          },
          "metadata": {},
          "execution_count": 84
        }
      ]
    },
    {
      "cell_type": "code",
      "source": [
        "output[9]"
      ],
      "metadata": {
        "colab": {
          "base_uri": "https://localhost:8080/"
        },
        "id": "dnmwj-Q40Da2",
        "outputId": "c8b5187f-45ff-4911-cb36-b0e37dacbb58"
      },
      "execution_count": 85,
      "outputs": [
        {
          "output_type": "execute_result",
          "data": {
            "text/plain": [
              "array([3.03888635e-04, 2.23287265e-03, 6.78179711e-02, 1.42274678e-01,\n",
              "       6.73083782e-01, 1.13204315e-01, 4.13557776e-04, 3.31078831e-04,\n",
              "       3.37918842e-04], dtype=float32)"
            ]
          },
          "metadata": {},
          "execution_count": 85
        }
      ]
    },
    {
      "cell_type": "code",
      "source": [
        "test_data_list[7]"
      ],
      "metadata": {
        "colab": {
          "base_uri": "https://localhost:8080/"
        },
        "id": "R58Mu8NilDGA",
        "outputId": "7903562c-e724-4a32-828b-56f097f24346"
      },
      "execution_count": 67,
      "outputs": [
        {
          "output_type": "execute_result",
          "data": {
            "text/plain": [
              "array([0.   , 0.001, 0.099, 0.197, 0.654, 0.049, 0.   , 0.   , 0.   ],\n",
              "      dtype=float32)"
            ]
          },
          "metadata": {},
          "execution_count": 67
        }
      ]
    },
    {
      "cell_type": "code",
      "source": [
        "import matplotlib.pyplot as plt\n",
        "plt.plot(history.history[\"accuracy\"])\n",
        "plt.plot(history.history['val_accuracy'])\n",
        "plt.plot(history.history['loss'])\n",
        "plt.plot(history.history['val_loss'])\n",
        "plt.title(\"model accuracy\")\n",
        "plt.ylabel(\"Accuracy\")\n",
        "plt.xlabel(\"Epoch\")\n",
        "plt.legend([\"Accuracy\",\"Validation Accuracy\",\"loss\",\"Validation Loss\"])\n",
        "plt.show()"
      ],
      "metadata": {
        "colab": {
          "base_uri": "https://localhost:8080/",
          "height": 295
        },
        "id": "uLWOrSdYleA4",
        "outputId": "b1d282d4-1e4c-444d-9b19-813e899d9d8c"
      },
      "execution_count": 68,
      "outputs": [
        {
          "output_type": "display_data",
          "data": {
            "text/plain": [
              "<Figure size 432x288 with 1 Axes>"
            ],
            "image/png": "[encoded data removed]"
          },
          "metadata": {
            "needs_background": "light"
          }
        }
      ]
    },
    {
      "cell_type": "code",
      "source": [
        "plt.hist(output[1],bins=9)\n",
        "plt.show()"
      ],
      "metadata": {
        "colab": {
          "base_uri": "https://localhost:8080/",
          "height": 265
        },
        "id": "YqoM018NyRhF",
        "outputId": "c434ab7e-0e29-4f74-a57d-14434cefc946"
      },
      "execution_count": 77,
      "outputs": [
        {
          "output_type": "display_data",
          "data": {
            "text/plain": [
              "<Figure size 432x288 with 1 Axes>"
            ],
            "image/png": "[encoded data removed]"
          },
          "metadata": {
            "needs_background": "light"
          }
        }
      ]
    },
    {
      "cell_type": "code",
      "source": [
        "plt.hist(test_data_list[1],bins=9)\n",
        "plt.show()"
      ],
      "metadata": {
        "colab": {
          "base_uri": "https://localhost:8080/",
          "height": 265
        },
        "id": "Vh0Y3MyqzDDe",
        "outputId": "dfb26876-be41-4f90-c8b3-65c01c873c85"
      },
      "execution_count": 76,
      "outputs": [
        {
          "output_type": "display_data",
          "data": {
            "text/plain": [
              "<Figure size 432x288 with 1 Axes>"
            ],
            "image/png": "[encoded data removed]"
          },
          "metadata": {
            "needs_background": "light"
          }
        }
      ]
    }
  ]
}